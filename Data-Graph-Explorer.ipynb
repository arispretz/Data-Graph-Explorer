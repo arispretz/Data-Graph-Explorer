Data Graph Explorer
# Write your code here
# https://people.sc.fsu.edu/~jburkardt/data/csv/faithful.csv

def upload_from_computer():
    import pandas as pd
    import matplotlib.pyplot as plt
    from google.colab import files
    import io
# to upload from computer:
    uploaded = files.upload()
    file_name = next(iter(uploaded))
    table_1 = pd.read_csv(io.BytesIO(uploaded[file_name]))
# Get the headers
    print(table_1.head())
    table_1['id'].describe() # change name of column here
    table_1['age'].describe() # change name of column here

# Convert values to numpy arrays to graph
    x = table_1['age'].to_numpy() # change name of column here
    y = table_1['id'].to_numpy() # change name of column here

# Graph dimensions
    xmin = x.min() - 5
    xmax = x.max() + 5
    ymin = y.min() - 5
    ymax = y.max() + 5

    fig, ax = plt.subplots()
    plt.axis([xmin,xmax,ymin,ymax]) # window size
    plt.plot([xmin,xmax],[0,0],'b') # blue x axis
    plt.plot([0,0],[ymin,ymax], 'b') # blue y axis
    plt.plot(x,y,'ro') # make it scatterplot or line graph
    plt.show()



def putting_url_in_code():
    import pandas as pd
    import matplotlib.pyplot as plt
    from google.colab import files
    import io
# example url, you can change it:
    url = input('Enter a url: ')

    table_1 = pd.read_csv(url)

# Get the headers
    print(table_1.head())

    table_1[' "Eruption length (mins)"'].describe() # change name of column here
    table_1['Index'].describe() # change name of column here

# Convert values to numpy arrays to graph
    x = table_1['Index'].to_numpy() # change name of column here
    y = table_1[' "Eruption length (mins)"'].to_numpy() # change name of column here

# Graph dimensions
    xmin = x.min() - 5
    xmax = x.max() + 5
    ymin = y.min() - 5
    ymax = y.max() + 5

    fig, ax = plt.subplots()
    plt.axis([xmin,xmax,ymin,ymax]) # window size
    plt.plot([xmin,xmax],[0,0],'b') # blue x axis
    plt.plot([0,0],[ymin,ymax], 'b') # blue y axis
    plt.plot(x,y,'ro') # make it scatterplot or line graph
    plt.show()



def url_from_user_input():
    import pandas as pd
    import matplotlib.pyplot as plt
    from google.colab import files
    import io
# Dialog to input a url
    url = input("URL of the csv: ")
    table_1 = pd.read_csv(url)
    # Get the headers
    print(table_1.head())
    table_1[' "Eruption length (mins)"'].describe() # change name of column here
    table_1['Index'].describe() # change name of column here

# Convert values to numpy arrays to graph
    x = table_1['Index'].to_numpy() # change name of column here
    y = table_1[' "Eruption length (mins)"'].to_numpy() # change name of column here

# Graph dimensions
    xmin = x.min() - 5
    xmax = x.max() + 5
    ymin = y.min() - 5
    ymax = y.max() + 5

    fig, ax = plt.subplots()
    plt.axis([xmin,xmax,ymin,ymax]) # window size
    plt.plot([xmin,xmax],[0,0],'b') # blue x axis
    plt.plot([0,0],[ymin,ymax], 'b') # blue y axis
    plt.plot(x,y,'ro') # make it scatterplot or line graph
    plt.show()




def data_graph_explorer():
    print('Options:')
    print('1. to upload a file from computer')
    print('2. putting url in the code')
    print('3. url from user input')

    option = int(input('Please choose an option: '))

    if option == 1:
        print(upload_from_computer())
    elif option == 2:
        print(putting_url_in_code())
    elif option == 3:
        print(url_from_user_input())

data_graph_explorer()

